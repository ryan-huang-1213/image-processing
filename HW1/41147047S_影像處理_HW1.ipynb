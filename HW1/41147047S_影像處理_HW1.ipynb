{
 "cells": [
  {
   "cell_type": "markdown",
   "metadata": {},
   "source": [
    "# 影像處理 HW1\n",
    "學號 : 41147047S\n",
    "系級 : 資工 115 \n",
    "作者 : 黃國展 "
   ]
  },
  {
   "cell_type": "markdown",
   "metadata": {},
   "source": [
    "## 環境建置 \n",
    "安裝以下套件 : \n",
    "1. numpy ( 基礎數學運算 )\n",
    "2. opencv-python ( 影像處理函式庫 )\n",
    "3. gradio ( 圖形化介面 )"
   ]
  },
  {
   "cell_type": "code",
   "execution_count": 1,
   "metadata": {},
   "outputs": [
    {
     "name": "stdout",
     "output_type": "stream",
     "text": [
      "Requirement already satisfied: gradio in c:\\users\\ryan\\anaconda3\\lib\\site-packages (5.19.0)\n",
      "Requirement already satisfied: opencv-python in c:\\users\\ryan\\anaconda3\\lib\\site-packages (4.11.0.86)\n",
      "Requirement already satisfied: numpy in c:\\users\\ryan\\anaconda3\\lib\\site-packages (1.26.4)\n",
      "Requirement already satisfied: aiofiles<24.0,>=22.0 in c:\\users\\ryan\\anaconda3\\lib\\site-packages (from gradio) (23.2.1)\n",
      "Requirement already satisfied: anyio<5.0,>=3.0 in c:\\users\\ryan\\anaconda3\\lib\\site-packages (from gradio) (4.2.0)\n",
      "Requirement already satisfied: fastapi<1.0,>=0.115.2 in c:\\users\\ryan\\anaconda3\\lib\\site-packages (from gradio) (0.115.8)\n",
      "Requirement already satisfied: ffmpy in c:\\users\\ryan\\anaconda3\\lib\\site-packages (from gradio) (0.5.0)\n",
      "Requirement already satisfied: gradio-client==1.7.2 in c:\\users\\ryan\\anaconda3\\lib\\site-packages (from gradio) (1.7.2)\n",
      "Requirement already satisfied: httpx>=0.24.1 in c:\\users\\ryan\\anaconda3\\lib\\site-packages (from gradio) (0.27.0)\n",
      "Requirement already satisfied: huggingface-hub>=0.28.1 in c:\\users\\ryan\\anaconda3\\lib\\site-packages (from gradio) (0.29.1)\n",
      "Requirement already satisfied: jinja2<4.0 in c:\\users\\ryan\\anaconda3\\lib\\site-packages (from gradio) (3.1.4)\n",
      "Requirement already satisfied: markupsafe~=2.0 in c:\\users\\ryan\\anaconda3\\lib\\site-packages (from gradio) (2.1.3)\n",
      "Requirement already satisfied: orjson~=3.0 in c:\\users\\ryan\\anaconda3\\lib\\site-packages (from gradio) (3.10.15)\n",
      "Requirement already satisfied: packaging in c:\\users\\ryan\\anaconda3\\lib\\site-packages (from gradio) (20.9)\n",
      "Requirement already satisfied: pandas<3.0,>=1.0 in c:\\users\\ryan\\anaconda3\\lib\\site-packages (from gradio) (2.2.2)\n",
      "Requirement already satisfied: pillow<12.0,>=8.0 in c:\\users\\ryan\\anaconda3\\lib\\site-packages (from gradio) (10.4.0)\n",
      "Requirement already satisfied: pydantic>=2.0 in c:\\users\\ryan\\anaconda3\\lib\\site-packages (from gradio) (2.8.2)\n",
      "Requirement already satisfied: pydub in c:\\users\\ryan\\anaconda3\\lib\\site-packages (from gradio) (0.25.1)\n",
      "Requirement already satisfied: python-multipart>=0.0.18 in c:\\users\\ryan\\anaconda3\\lib\\site-packages (from gradio) (0.0.20)\n",
      "Requirement already satisfied: pyyaml<7.0,>=5.0 in c:\\users\\ryan\\anaconda3\\lib\\site-packages (from gradio) (6.0.1)\n",
      "Requirement already satisfied: ruff>=0.9.3 in c:\\users\\ryan\\anaconda3\\lib\\site-packages (from gradio) (0.9.7)\n",
      "Requirement already satisfied: safehttpx<0.2.0,>=0.1.6 in c:\\users\\ryan\\anaconda3\\lib\\site-packages (from gradio) (0.1.6)\n",
      "Requirement already satisfied: semantic-version~=2.0 in c:\\users\\ryan\\anaconda3\\lib\\site-packages (from gradio) (2.10.0)\n",
      "Requirement already satisfied: starlette<1.0,>=0.40.0 in c:\\users\\ryan\\anaconda3\\lib\\site-packages (from gradio) (0.45.3)\n",
      "Requirement already satisfied: tomlkit<0.14.0,>=0.12.0 in c:\\users\\ryan\\anaconda3\\lib\\site-packages (from gradio) (0.13.2)\n",
      "Requirement already satisfied: typer<1.0,>=0.12 in c:\\users\\ryan\\anaconda3\\lib\\site-packages (from gradio) (0.15.1)\n",
      "Requirement already satisfied: typing-extensions~=4.0 in c:\\users\\ryan\\anaconda3\\lib\\site-packages (from gradio) (4.11.0)\n",
      "Requirement already satisfied: uvicorn>=0.14.0 in c:\\users\\ryan\\anaconda3\\lib\\site-packages (from gradio) (0.34.0)\n",
      "Requirement already satisfied: fsspec in c:\\users\\ryan\\anaconda3\\lib\\site-packages (from gradio-client==1.7.2->gradio) (2024.6.1)\n",
      "Requirement already satisfied: websockets<16.0,>=10.0 in c:\\users\\ryan\\anaconda3\\lib\\site-packages (from gradio-client==1.7.2->gradio) (15.0)\n",
      "Requirement already satisfied: idna>=2.8 in c:\\users\\ryan\\anaconda3\\lib\\site-packages (from anyio<5.0,>=3.0->gradio) (3.7)\n",
      "Requirement already satisfied: sniffio>=1.1 in c:\\users\\ryan\\anaconda3\\lib\\site-packages (from anyio<5.0,>=3.0->gradio) (1.3.0)\n",
      "Requirement already satisfied: certifi in c:\\users\\ryan\\anaconda3\\lib\\site-packages (from httpx>=0.24.1->gradio) (2025.1.31)\n",
      "Requirement already satisfied: httpcore==1.* in c:\\users\\ryan\\anaconda3\\lib\\site-packages (from httpx>=0.24.1->gradio) (1.0.2)\n",
      "Requirement already satisfied: h11<0.15,>=0.13 in c:\\users\\ryan\\anaconda3\\lib\\site-packages (from httpcore==1.*->httpx>=0.24.1->gradio) (0.14.0)\n",
      "Requirement already satisfied: filelock in c:\\users\\ryan\\anaconda3\\lib\\site-packages (from huggingface-hub>=0.28.1->gradio) (3.13.1)\n",
      "Requirement already satisfied: requests in c:\\users\\ryan\\anaconda3\\lib\\site-packages (from huggingface-hub>=0.28.1->gradio) (2.32.3)\n",
      "Requirement already satisfied: tqdm>=4.42.1 in c:\\users\\ryan\\anaconda3\\lib\\site-packages (from huggingface-hub>=0.28.1->gradio) (4.66.5)\n",
      "Requirement already satisfied: pyparsing>=2.0.2 in c:\\users\\ryan\\anaconda3\\lib\\site-packages (from packaging->gradio) (3.1.2)\n",
      "Requirement already satisfied: python-dateutil>=2.8.2 in c:\\users\\ryan\\anaconda3\\lib\\site-packages (from pandas<3.0,>=1.0->gradio) (2.9.0.post0)\n",
      "Requirement already satisfied: pytz>=2020.1 in c:\\users\\ryan\\anaconda3\\lib\\site-packages (from pandas<3.0,>=1.0->gradio) (2024.1)\n",
      "Requirement already satisfied: tzdata>=2022.7 in c:\\users\\ryan\\anaconda3\\lib\\site-packages (from pandas<3.0,>=1.0->gradio) (2023.3)\n",
      "Requirement already satisfied: annotated-types>=0.4.0 in c:\\users\\ryan\\anaconda3\\lib\\site-packages (from pydantic>=2.0->gradio) (0.6.0)\n",
      "Requirement already satisfied: pydantic-core==2.20.1 in c:\\users\\ryan\\anaconda3\\lib\\site-packages (from pydantic>=2.0->gradio) (2.20.1)\n",
      "Requirement already satisfied: click>=8.0.0 in c:\\users\\ryan\\anaconda3\\lib\\site-packages (from typer<1.0,>=0.12->gradio) (8.1.7)\n",
      "Requirement already satisfied: shellingham>=1.3.0 in c:\\users\\ryan\\anaconda3\\lib\\site-packages (from typer<1.0,>=0.12->gradio) (1.5.4)\n",
      "Requirement already satisfied: rich>=10.11.0 in c:\\users\\ryan\\anaconda3\\lib\\site-packages (from typer<1.0,>=0.12->gradio) (13.7.1)\n",
      "Requirement already satisfied: colorama in c:\\users\\ryan\\anaconda3\\lib\\site-packages (from click>=8.0.0->typer<1.0,>=0.12->gradio) (0.4.6)\n",
      "Requirement already satisfied: six>=1.5 in c:\\users\\ryan\\anaconda3\\lib\\site-packages (from python-dateutil>=2.8.2->pandas<3.0,>=1.0->gradio) (1.16.0)\n",
      "Requirement already satisfied: markdown-it-py>=2.2.0 in c:\\users\\ryan\\anaconda3\\lib\\site-packages (from rich>=10.11.0->typer<1.0,>=0.12->gradio) (2.2.0)\n",
      "Requirement already satisfied: pygments<3.0.0,>=2.13.0 in c:\\users\\ryan\\anaconda3\\lib\\site-packages (from rich>=10.11.0->typer<1.0,>=0.12->gradio) (2.15.1)\n",
      "Requirement already satisfied: charset-normalizer<4,>=2 in c:\\users\\ryan\\anaconda3\\lib\\site-packages (from requests->huggingface-hub>=0.28.1->gradio) (3.3.2)\n",
      "Requirement already satisfied: urllib3<3,>=1.21.1 in c:\\users\\ryan\\anaconda3\\lib\\site-packages (from requests->huggingface-hub>=0.28.1->gradio) (2.2.3)\n",
      "Requirement already satisfied: mdurl~=0.1 in c:\\users\\ryan\\anaconda3\\lib\\site-packages (from markdown-it-py>=2.2.0->rich>=10.11.0->typer<1.0,>=0.12->gradio) (0.1.0)\n",
      "Note: you may need to restart the kernel to use updated packages.\n"
     ]
    }
   ],
   "source": [
    "%pip install gradio opencv-python numpy"
   ]
  },
  {
   "cell_type": "markdown",
   "metadata": {},
   "source": [
    "## 導入函式"
   ]
  },
  {
   "cell_type": "code",
   "execution_count": 2,
   "metadata": {},
   "outputs": [],
   "source": [
    "import cv2\n",
    "import numpy as np\n",
    "import gradio as gr"
   ]
  },
  {
   "cell_type": "markdown",
   "metadata": {},
   "source": [
    "## 進行抖色"
   ]
  },
  {
   "cell_type": "code",
   "execution_count": 3,
   "metadata": {},
   "outputs": [],
   "source": [
    "def ordered_dithering(img, dither_matrix):\n",
    "    \"\"\"\n",
    "    使用給定的抖色矩陣對灰階圖像應用有序抖色 (Ordered Dithering)。\n",
    "    \n",
    "    參數:\n",
    "    img (numpy.ndarray): 灰階圖像，像素值範圍為 [0, 255]。\n",
    "    dither_matrix (numpy.ndarray): 抖色矩陣 (Dithering Matrix)，用於決定像素變化的閥值。\n",
    "\n",
    "    回傳:\n",
    "    binary_img (numpy.ndarray): 抖色後的二值化圖像 (黑白圖像)。\n",
    "    \"\"\"\n",
    "    h, w = img.shape  # 取得圖像的高度 (h) 和寬度 (w)\n",
    "    m_h, m_w = dither_matrix.shape  # 取得抖色矩陣的高度 (m_h) 和寬度 (m_w)\n",
    "    \n",
    "    # 根據原圖大小擴展抖色矩陣，使其覆蓋整個圖像\n",
    "    # 透過 np.tile 重複填充抖色矩陣，確保大小與圖像相符\n",
    "    D = np.tile(dither_matrix, (h // m_h + 1, w // m_w + 1))[:h, :w]\n",
    "    \n",
    "    # 依照抖色矩陣的閥值決定每個像素點的顏色\n",
    "    # 若像素值大於對應的抖色閥值，則設為 255 (白色)，否則設為 0 (黑色)\n",
    "    binary_img = np.where(img > D, 255, 0).astype(np.uint8)\n",
    "    \n",
    "    return binary_img  # 回傳二值化後的抖色圖像\n",
    "\n",
    "def extended_dithering(img, dither_matrix):\n",
    "    \"\"\"\n",
    "    使用擴展抖色 (Extended Dithering) 來產生 4 級灰階效果。\n",
    "    \n",
    "    參數:\n",
    "    img (numpy.ndarray): 灰階圖像，像素值範圍為 [0, 255]。\n",
    "    dither_matrix (numpy.ndarray): 抖色矩陣 (Dithering Matrix)。\n",
    "\n",
    "    回傳:\n",
    "    result (numpy.ndarray): 具有 4 級灰階的抖色圖像。\n",
    "    \"\"\"\n",
    "    h, w = img.shape  # 取得圖像的高度 (h) 和寬度 (w)\n",
    "    m_h, m_w = dither_matrix.shape  # 取得抖色矩陣的高度 (m_h) 和寬度 (m_w)\n",
    "    \n",
    "    # 計算量化級別 (4 級灰階)，將像素值分成 4 個等級\n",
    "    Q = (img // 85).astype(np.uint8)  # 85 ≈ 255/3，將 0~255 分為 0, 85, 170, 255\n",
    "    \n",
    "    # 產生與圖像相同大小的抖色矩陣\n",
    "    D = np.tile(dither_matrix, (h // m_h + 1, w // m_w + 1))[:h, :w]\n",
    "    \n",
    "    # 根據抖色矩陣進行級別調整\n",
    "    # 若像素的殘差 (img - 85 * Q) 大於抖色矩陣的值，則額外增加 1 級\n",
    "    I_prime = Q + np.where(img - 85 * Q > D, 1, 0)\n",
    "    \n",
    "    # 轉換回 0, 85, 170, 255 的像素範圍，適用於 4 級灰階顯示\n",
    "    result = (I_prime * 85).astype(np.uint8)\n",
    "    \n",
    "    return result  # 回傳 4 級灰階的抖色圖像\n",
    "\n",
    "def process_image(image):\n",
    "    \"\"\"\n",
    "    將輸入的彩色圖像轉換為灰階，並套用有序抖色 (Ordered Dithering) 和擴展抖色 (Extended Dithering)。\n",
    "    \n",
    "    參數:\n",
    "    image (numpy.ndarray): 彩色圖像，格式為 BGR。\n",
    "\n",
    "    回傳:\n",
    "    gray (numpy.ndarray): 轉換為灰階的圖像。\n",
    "    binary_dithered (numpy.ndarray): 應用有序抖色後的黑白圖像。\n",
    "    extended_dithered (numpy.ndarray): 應用擴展抖色後的 4 級灰階圖像。\n",
    "    \"\"\"\n",
    "    # 轉換彩色圖像為灰階\n",
    "    gray = cv2.cvtColor(image, cv2.COLOR_BGR2GRAY)\n",
    "    \n",
    "    # 定義 4×4 抖色矩陣，用於有序抖色\n",
    "    D2 = np.array([[0, 128, 32, 160],\n",
    "                   [192, 64, 224, 96],\n",
    "                   [48, 176, 16, 144],\n",
    "                   [240, 112, 208, 80]], dtype=np.uint8)\n",
    "    \n",
    "    # 定義 2×2 抖色矩陣，用於擴展抖色\n",
    "    D1 = np.array([[0, 56],\n",
    "                   [84, 28]], dtype=np.uint8)\n",
    "    \n",
    "    # 套用有序抖色 (二值化圖像)\n",
    "    binary_dithered = ordered_dithering(gray, D2)\n",
    "    \n",
    "    # 套用擴展抖色 (4 級灰階圖像)\n",
    "    extended_dithered = extended_dithering(gray, D1)\n",
    "    \n",
    "    return gray, binary_dithered, extended_dithered  # 回傳處理後的圖像\n",
    "\n",
    "def gradio_interface(image):\n",
    "    \"\"\"\n",
    "    Gradio 介面函式，讓使用者上傳圖片並進行抖色處理。\n",
    "    \n",
    "    參數:\n",
    "    image (numpy.ndarray): 上傳的彩色圖像。\n",
    "\n",
    "    回傳:\n",
    "    (tuple): 轉換後的灰階圖像、有序抖色後的黑白圖像、擴展抖色後的 4 級灰階圖像。\n",
    "    \"\"\"\n",
    "    gray, binary_dithered, extended_dithered = process_image(image)\n",
    "    return gray, binary_dithered, extended_dithered  # 回傳處理結果\n"
   ]
  },
  {
   "cell_type": "markdown",
   "metadata": {},
   "source": [
    "## 創建 gradio 介面"
   ]
  },
  {
   "cell_type": "code",
   "execution_count": null,
   "metadata": {},
   "outputs": [
    {
     "name": "stdout",
     "output_type": "stream",
     "text": [
      "* Running on local URL:  http://127.0.0.1:7860\n",
      "\n",
      "To create a public link, set `share=True` in `launch()`.\n"
     ]
    },
    {
     "data": {
      "text/html": [
       "<div><iframe src=\"http://127.0.0.1:7860/\" width=\"100%\" height=\"500\" allow=\"autoplay; camera; microphone; clipboard-read; clipboard-write;\" frameborder=\"0\" allowfullscreen></iframe></div>"
      ],
      "text/plain": [
       "<IPython.core.display.HTML object>"
      ]
     },
     "metadata": {},
     "output_type": "display_data"
    },
    {
     "data": {
      "text/plain": []
     },
     "execution_count": 4,
     "metadata": {},
     "output_type": "execute_result"
    }
   ],
   "source": [
    "# 建立 gradio ui \n",
    "iface = gr.Interface(\n",
    "    fn=gradio_interface,\n",
    "    inputs=gr.Image(type=\"numpy\"),\n",
    "    outputs=[gr.Image(type=\"numpy\", label=\"Grayscale Image\"),\n",
    "             gr.Image(type=\"numpy\", label=\"Ordered Dithering (B/W)\"),\n",
    "             gr.Image(type=\"numpy\", label=\"Extended Dithering (4 Gray Levels)\")],\n",
    "    title=\"Dithering Effect Demonstration\",\n",
    "    description=\"Upload an image to see how dithering transforms it into binary and 4-level grayscale images.\"\n",
    ")\n",
    "\n",
    "iface.launch()\n"
   ]
  }
 ],
 "metadata": {
  "kernelspec": {
   "display_name": "base",
   "language": "python",
   "name": "python3"
  },
  "language_info": {
   "codemirror_mode": {
    "name": "ipython",
    "version": 3
   },
   "file_extension": ".py",
   "mimetype": "text/x-python",
   "name": "python",
   "nbconvert_exporter": "python",
   "pygments_lexer": "ipython3",
   "version": "3.12.7"
  }
 },
 "nbformat": 4,
 "nbformat_minor": 2
}
