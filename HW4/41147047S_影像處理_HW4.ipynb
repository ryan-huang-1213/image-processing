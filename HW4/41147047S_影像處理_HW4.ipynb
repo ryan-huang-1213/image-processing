{
 "cells": [
  {
   "cell_type": "markdown",
   "metadata": {},
   "source": [
    "# 影像處理作業：旋轉影像（最近鄰插值 / 雙線性插值 / OpenCV）\n",
    "此作業實作三種旋轉影像的方式，分別為最近鄰插值、雙線性插值以及 OpenCV 提供的旋轉方法。"
   ]
  },
  {
   "cell_type": "code",
   "execution_count": null,
   "metadata": {},
   "outputs": [],
   "source": [
    "import cv2\n",
    "import numpy as np\n",
    "import os"
   ]
  },
  {
   "cell_type": "markdown",
   "metadata": {},
   "source": [
    "## 建立基礎影像\n",
    "建立一個黑底白方塊的影像作為旋轉的基礎影像。"
   ]
  },
  {
   "cell_type": "code",
   "execution_count": null,
   "metadata": {},
   "outputs": [],
   "source": [
    "def create_base_image(size=256, square_size=100):\n",
    "    img = np.zeros((size, size), dtype=np.uint8)\n",
    "    start = (size - square_size) // 2\n",
    "    end = start + square_size\n",
    "    img[start:end, start:end] = 255\n",
    "    return img"
   ]
  },
  {
   "cell_type": "markdown",
   "metadata": {},
   "source": [
    "## 最近鄰插值旋轉（手動）\n",
    "使用最近鄰插值的方式手動實作影像旋轉。"
   ]
  },
  {
   "cell_type": "code",
   "execution_count": null,
   "metadata": {},
   "outputs": [],
   "source": [
    "def rotate_nearest(img, angle_deg):\n",
    "    angle_rad = - np.deg2rad(angle_deg)\n",
    "    h, w = img.shape\n",
    "    cx, cy = w // 2, h // 2\n",
    "    rotated = np.zeros_like(img)\n",
    "\n",
    "    for y in range(h):\n",
    "        for x in range(w):\n",
    "            tx = x - cx\n",
    "            ty = y - cy\n",
    "            src_x =  np.cos(angle_rad) * tx + np.sin(angle_rad) * ty + cx\n",
    "            src_y = -np.sin(angle_rad) * tx + np.cos(angle_rad) * ty + cy\n",
    "            src_x = int(round(src_x))\n",
    "            src_y = int(round(src_y))\n",
    "            if 0 <= src_x < w and 0 <= src_y < h:\n",
    "                rotated[y, x] = img[src_y, src_x]\n",
    "    return rotated"
   ]
  },
  {
   "cell_type": "markdown",
   "metadata": {},
   "source": [
    "## 雙線性插值旋轉（手動）\n",
    "使用雙線性插值的方式手動實作影像旋轉。"
   ]
  },
  {
   "cell_type": "code",
   "execution_count": null,
   "metadata": {},
   "outputs": [],
   "source": [
    "def rotate_bilinear(img, angle_deg):\n",
    "    angle_rad = - np.deg2rad(angle_deg)\n",
    "    h, w = img.shape\n",
    "    cx, cy = w // 2, h // 2\n",
    "    rotated = np.zeros_like(img)\n",
    "\n",
    "    for y in range(h):\n",
    "        for x in range(w):\n",
    "            tx = x - cx\n",
    "            ty = y - cy\n",
    "            src_x =  np.cos(angle_rad) * tx + np.sin(angle_rad) * ty + cx\n",
    "            src_y = -np.sin(angle_rad) * tx + np.cos(angle_rad) * ty + cy\n",
    "\n",
    "            x0 = int(np.floor(src_x))\n",
    "            y0 = int(np.floor(src_y))\n",
    "            x1 = x0 + 1\n",
    "            y1 = y0 + 1\n",
    "\n",
    "            if 0 <= x0 < w and 0 <= y0 < h and 0 <= x1 < w and 0 <= y1 < h:\n",
    "                Ia = img[y0, x0]\n",
    "                Ib = img[y0, x1]\n",
    "                Ic = img[y1, x0]\n",
    "                Id = img[y1, x1]\n",
    "\n",
    "                wa = (x1 - src_x) * (y1 - src_y)\n",
    "                wb = (src_x - x0) * (y1 - src_y)\n",
    "                wc = (x1 - src_x) * (src_y - y0)\n",
    "                wd = (src_x - x0) * (src_y - y0)\n",
    "\n",
    "                value = wa * Ia + wb * Ib + wc * Ic + wd * Id\n",
    "                rotated[y, x] = int(value)\n",
    "    return rotated"
   ]
  },
  {
   "cell_type": "markdown",
   "metadata": {},
   "source": [
    "## OpenCV旋轉（指定插值方式）\n",
    "使用 OpenCV 提供的函數進行影像旋轉，並指定插值方式。"
   ]
  },
  {
   "cell_type": "code",
   "execution_count": null,
   "metadata": {},
   "outputs": [],
   "source": [
    "def rotate_opencv(img, angle, method):\n",
    "    h, w = img.shape\n",
    "    M = cv2.getRotationMatrix2D((w // 2, h // 2), angle, 1.0)\n",
    "    return cv2.warpAffine(img, M, (w, h), flags=method, borderValue=0)"
   ]
  },
  {
   "cell_type": "markdown",
   "metadata": {},
   "source": [
    "## Gradio 回呼函數\n",
    "定義 Gradio 的回呼函數，將不同旋轉方式的結果返回。"
   ]
  },
  {
   "cell_type": "code",
   "execution_count": null,
   "metadata": {},
   "outputs": [],
   "source": [
    "def update(angle):\n",
    "    base = create_base_image()\n",
    "    nn_manual = rotate_nearest(base, angle)\n",
    "    nn_cv = rotate_opencv(base, angle, cv2.INTER_NEAREST)\n",
    "    bilinear_manual = rotate_bilinear(base, angle)\n",
    "    bilinear_cv = rotate_opencv(base, angle, cv2.INTER_LINEAR)\n",
    "\n",
    "    return (\n",
    "        Image.fromarray(base),\n",
    "        Image.fromarray(nn_manual),\n",
    "        Image.fromarray(nn_cv),\n",
    "        Image.fromarray(bilinear_manual),\n",
    "        Image.fromarray(bilinear_cv)\n",
    "    )"
   ]
  },
  {
   "cell_type": "markdown",
   "metadata": {},
   "source": [
    "## 設定 Gradio 介面\n",
    "使用 Gradio 建立互動式介面，讓使用者可以調整旋轉角度並比較不同插值方式的結果。"
   ]
  },
  {
   "cell_type": "code",
   "execution_count": null,
   "metadata": {},
   "outputs": [],
   "source": [
    "demo = gr.Interface(\n",
    "    fn=update,\n",
    "    inputs=gr.Slider(0, 360, value=30, step=1, label=\"Rotation Angle (degrees)\"),\n",
    "    outputs=[\n",
    "        gr.Image(type=\"pil\", label=\"Original Image\"),\n",
    "        gr.Image(type=\"pil\", label=\"Nearest Neighbor (Manual)\"),\n",
    "        gr.Image(type=\"pil\", label=\"Nearest Neighbor (OpenCV)\"),\n",
    "        gr.Image(type=\"pil\", label=\"Bilinear (Manual)\"),\n",
    "        gr.Image(type=\"pil\", label=\"Bilinear (OpenCV)\")\n",
    "    ],\n",
    "    title=\"Image Rotation: Manual vs OpenCV Interpolation\",\n",
    "    description=\"Manually implemented nearest/bilinear interpolation vs OpenCV interpolation. Adjust rotation angle to compare.\"\n",
    ")"
   ]
  },
  {
   "cell_type": "markdown",
   "metadata": {},
   "source": [
    "## 啟動介面\n",
    "執行以下程式碼以啟動 Gradio 介面。"
   ]
  },
  {
   "cell_type": "code",
   "execution_count": null,
   "metadata": {},
   "outputs": [],
   "source": [
    "demo.launch()"
   ]
  }
 ],
 "metadata": {
  "kernelspec": {
   "display_name": "base",
   "language": "python",
   "name": "python3"
  },
  "language_info": {
   "codemirror_mode": {
    "name": "ipython",
    "version": 3
   },
   "file_extension": ".py",
   "mimetype": "text/x-python",
   "name": "python",
   "nbconvert_exporter": "python",
   "pygments_lexer": "ipython3",
   "version": "3.12.7"
  }
 },
 "nbformat": 4,
 "nbformat_minor": 2
}
