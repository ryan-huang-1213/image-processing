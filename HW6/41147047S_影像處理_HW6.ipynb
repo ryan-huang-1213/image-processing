{
 "cells": [
  {
   "cell_type": "markdown",
   "id": "67cdded3",
   "metadata": {},
   "source": [
    "# 高斯雜訊產生器\n",
    "此 Notebook 示範如何使用 Box–Muller 演算法產生含有高斯雜訊的影像，並視覺化結果。"
   ]
  },
  {
   "cell_type": "markdown",
   "id": "0dbc06ec",
   "metadata": {},
   "source": [
    "## 匯入所需的函式庫\n",
    "以下函式庫用於影像處理、視覺化以及建立互動式介面。"
   ]
  },
  {
   "cell_type": "code",
   "execution_count": 2,
   "id": "baa0a31e",
   "metadata": {},
   "outputs": [],
   "source": [
    "import numpy as np\n",
    "import matplotlib.pyplot as plt\n",
    "from PIL import Image\n",
    "import gradio as gr"
   ]
  },
  {
   "cell_type": "markdown",
   "id": "8cfe4f20",
   "metadata": {},
   "source": [
    "## 定義高斯雜訊產生函式\n",
    "此函式使用 Box–Muller 演算法產生含有高斯雜訊的影像，並回傳原始影像、含雜訊影像以及直方圖。"
   ]
  },
  {
   "cell_type": "code",
   "execution_count": 3,
   "id": "def3f8ea",
   "metadata": {},
   "outputs": [],
   "source": [
    "def generate_noisy_image(width: int, height: int, sigma: float):\n",
    "    # 1. Create a grayscale image g(x,y) with all pixel values set to 100\n",
    "    g = np.full((height, width), 100.0, dtype=np.float32)\n",
    "    \n",
    "    # 2. Generate Gaussian noise using the Box–Muller algorithm\n",
    "    noise = np.zeros_like(g)\n",
    "    for i in range(height):\n",
    "        j = 0\n",
    "        while j + 1 < width:\n",
    "            r = np.random.rand()\n",
    "            phi = np.random.rand()\n",
    "            z1 = sigma * np.cos(2 * np.pi * phi) * np.sqrt(-2 * np.log(r))\n",
    "            z2 = sigma * np.sin(2 * np.pi * phi) * np.sqrt(-2 * np.log(r))\n",
    "            noise[i, j]   = z1\n",
    "            noise[i, j+1] = z2\n",
    "            j += 2\n",
    "        if width % 2 == 1:\n",
    "            r = np.random.rand()\n",
    "            phi = np.random.rand()\n",
    "            z = sigma * np.cos(2 * np.pi * phi) * np.sqrt(-2 * np.log(r))\n",
    "            noise[i, -1] = z\n",
    "\n",
    "    # 3. Add noise to the image and clip values to [0, 255]\n",
    "    f = g + noise\n",
    "    f = np.clip(f, 0, 255).astype(np.uint8)\n",
    "    g_uint8 = np.clip(g, 0, 255).astype(np.uint8)\n",
    "    \n",
    "    # 4. Plot the histogram of the noisy image\n",
    "    fig, ax = plt.subplots()\n",
    "    ax.hist(f.flatten(), bins=256, range=(0,255))\n",
    "    ax.set_title(\"Histogram of f(x,y)\")\n",
    "    ax.set_xlabel(\"Gray level\")\n",
    "    ax.set_ylabel(\"Frequency\")\n",
    "    plt.tight_layout()\n",
    "    plt.close(fig)\n",
    "    \n",
    "    # Return the original image, noisy image, and histogram\n",
    "    return Image.fromarray(g_uint8), Image.fromarray(f), fig"
   ]
  },
  {
   "cell_type": "markdown",
   "id": "7ed7c7f7",
   "metadata": {},
   "source": [
    "## 建立 Gradio 介面\n",
    "Gradio 介面允許使用者互動式調整影像尺寸與雜訊強度 (σ)。"
   ]
  },
  {
   "cell_type": "code",
   "execution_count": 4,
   "id": "472f2881",
   "metadata": {},
   "outputs": [],
   "source": [
    "iface = gr.Interface(\n",
    "    fn=generate_noisy_image,\n",
    "    inputs=[\n",
    "        gr.Slider(64, 512, value=256, step=1, label=\"Width\"),\n",
    "        gr.Slider(64, 512, value=256, step=1, label=\"Height\"),\n",
    "        gr.Slider(0.0, 50.0, value=5.0, step=0.1, label=\"Sigma (σ)\")\n",
    "    ],\n",
    "    outputs=[\n",
    "        gr.Image(type=\"pil\", label=\"Input image g(x,y)\"),\n",
    "        gr.Image(type=\"pil\", label=\"Noisy image f(x,y)\"),\n",
    "        gr.Plot(label=\"Histogram of f(x,y)\")\n",
    "    ],\n",
    "    title=\"Gaussian Noise Generator\",\n",
    "    description=\"\"\"\n",
    "    本範例依照 Box–Muller 演算法為每對水平相鄰像素產生一對高斯雜訊，σ²=25 → σ=5  \n",
    "    可自由調整影像尺寸與 σ，並即時顯示結果與直方圖。\n",
    "    \"\"\"\n",
    ")"
   ]
  },
  {
   "cell_type": "markdown",
   "id": "8d328216",
   "metadata": {},
   "source": [
    "## 啟動介面\n",
    "執行以下程式碼以啟動 Gradio 介面。"
   ]
  },
  {
   "cell_type": "code",
   "execution_count": 5,
   "id": "2909db57",
   "metadata": {},
   "outputs": [
    {
     "name": "stdout",
     "output_type": "stream",
     "text": [
      "* Running on local URL:  http://127.0.0.1:7862\n",
      "\n",
      "To create a public link, set `share=True` in `launch()`.\n",
      "\n",
      "To create a public link, set `share=True` in `launch()`.\n"
     ]
    },
    {
     "data": {
      "text/html": [
       "<div><iframe src=\"http://127.0.0.1:7862/\" width=\"100%\" height=\"500\" allow=\"autoplay; camera; microphone; clipboard-read; clipboard-write;\" frameborder=\"0\" allowfullscreen></iframe></div>"
      ],
      "text/plain": [
       "<IPython.core.display.HTML object>"
      ]
     },
     "metadata": {},
     "output_type": "display_data"
    }
   ],
   "source": [
    "if __name__ == \"__main__\":\n",
    "    iface.launch()"
   ]
  }
 ],
 "metadata": {
  "kernelspec": {
   "display_name": "base",
   "language": "python",
   "name": "python3"
  },
  "language_info": {
   "codemirror_mode": {
    "name": "ipython",
    "version": 3
   },
   "file_extension": ".py",
   "mimetype": "text/x-python",
   "name": "python",
   "nbconvert_exporter": "python",
   "pygments_lexer": "ipython3",
   "version": "3.12.7"
  }
 },
 "nbformat": 4,
 "nbformat_minor": 5
}
