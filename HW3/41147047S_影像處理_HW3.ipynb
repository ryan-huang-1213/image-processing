{
 "cells": [
  {
   "cell_type": "markdown",
   "metadata": {},
   "source": [
    "# 影像處理作業：平均濾波 / 中值濾波 / Unsharp Masking\n",
    "此作業實作三種影像處理方式，分別為平均濾波、中值濾波以及 Unsharp Masking。"
   ]
  },
  {
   "cell_type": "code",
   "execution_count": 12,
   "metadata": {},
   "outputs": [],
   "source": [
    "import cv2\n",
    "import numpy as np\n",
    "import gradio as gr\n",
    "from PIL import Image"
   ]
  },
  {
   "cell_type": "markdown",
   "metadata": {},
   "source": [
    "## 定義影像處理函數\n",
    "此函數包含三種影像處理方式：平均濾波、中值濾波以及 Unsharp Masking。"
   ]
  },
  {
   "cell_type": "code",
   "execution_count": null,
   "metadata": {},
   "outputs": [],
   "source": [
    "def process_image(image, kernel_size, k_value):\n",
    "    # 讀取圖片並轉為灰階\n",
    "    img = np.array(image.convert(\"L\"), dtype=np.float32)\n",
    "    \n",
    "    # 1. 平均濾波\n",
    "    avg_blur = cv2.blur(img, (kernel_size, kernel_size))\n",
    "    color_avg_blur = cv2.cvtColor(avg_blur.astype(np.uint8), cv2.COLOR_GRAY2RGB)\n",
    "    \n",
    "    # 2. 中值濾波\n",
    "    median_blur = cv2.medianBlur(img.astype(np.uint8), kernel_size)\n",
    "    color_median_blur = cv2.cvtColor(median_blur.astype(np.uint8), cv2.COLOR_GRAY2RGB)\n",
    "    \n",
    "    # 3. Unsharp Masking with Average Filter\n",
    "    avg_mask = img - avg_blur\n",
    "    avg_sharpened = cv2.addWeighted(img, 1.0, avg_mask, k_value, 0)\n",
    "    color_avg_sharpened = cv2.cvtColor(np.clip(avg_sharpened, 0, 255).astype(np.uint8), cv2.COLOR_GRAY2RGB)\n",
    "    \n",
    "    # 4. Unsharp Masking with Median Filter\n",
    "    median_mask = img - median_blur\n",
    "    median_sharpened = cv2.addWeighted(img, 1.0, median_mask, k_value, 0)\n",
    "    color_median_sharpened = cv2.cvtColor(np.clip(median_sharpened, 0, 255).astype(np.uint8), cv2.COLOR_GRAY2RGB)\n",
    "\n",
    "    return (\n",
    "        Image.fromarray(color_avg_blur),\n",
    "        Image.fromarray(color_median_blur),\n",
    "        Image.fromarray(color_avg_sharpened),\n",
    "        Image.fromarray(color_median_sharpened)\n",
    "    )\n"
   ]
  },
  {
   "cell_type": "markdown",
   "metadata": {},
   "source": [
    "## 設定 Gradio 介面\n",
    "使用 Gradio 建立互動式介面，讓使用者可以上傳圖片並調整參數。"
   ]
  },
  {
   "cell_type": "code",
   "execution_count": 14,
   "metadata": {},
   "outputs": [],
   "source": [
    "image_input = gr.Image(type=\"pil\", label=\"上傳圖片\")\n",
    "kernel_slider = gr.Slider(3, 21, step=2, value=3, label=\"Kernel Size (必須是奇數)\")\n",
    "k_slider = gr.Slider(0.0, 5.0, step=0.1, value=1.0, label=\"Unsharp k 值\")\n",
    "\n",
    "demo = gr.Interface(\n",
    "    fn=process_image,\n",
    "    inputs=[image_input, kernel_slider, k_slider],\n",
    "    outputs=[\n",
    "        gr.Image(type=\"pil\", label=\"平均濾波 (Average Filter)\"),\n",
    "        gr.Image(type=\"pil\", label=\"中值濾波 (Median Filter)\"),\n",
    "        gr.Image(type=\"pil\", label=\"Unsharp Masking (Average Filter)\"),\n",
    "        gr.Image(type=\"pil\", label=\"Unsharp Masking (Median Filter)\"),\n",
    "    ],\n",
    "    title=\"影像處理作業：不同濾波與 Unsharp Masking\",\n",
    "    description=\"顯示平均濾波、中值濾波及其 Unsharp Masking 結果\"\n",
    ")"
   ]
  },
  {
   "cell_type": "markdown",
   "metadata": {},
   "source": [
    "## 啟動介面\n",
    "執行以下程式碼以啟動 Gradio 介面。"
   ]
  },
  {
   "cell_type": "code",
   "execution_count": 15,
   "metadata": {},
   "outputs": [
    {
     "name": "stdout",
     "output_type": "stream",
     "text": [
      "* Running on local URL:  http://127.0.0.1:7862\n",
      "\n",
      "To create a public link, set `share=True` in `launch()`.\n"
     ]
    },
    {
     "data": {
      "text/html": [
       "<div><iframe src=\"http://127.0.0.1:7862/\" width=\"100%\" height=\"500\" allow=\"autoplay; camera; microphone; clipboard-read; clipboard-write;\" frameborder=\"0\" allowfullscreen></iframe></div>"
      ],
      "text/plain": [
       "<IPython.core.display.HTML object>"
      ]
     },
     "metadata": {},
     "output_type": "display_data"
    },
    {
     "data": {
      "text/plain": []
     },
     "execution_count": 15,
     "metadata": {},
     "output_type": "execute_result"
    },
    {
     "name": "stderr",
     "output_type": "stream",
     "text": [
      "Traceback (most recent call last):\n",
      "  File \"c:\\Users\\ryan\\anaconda3\\Lib\\site-packages\\PIL\\Image.py\", line 3277, in fromarray\n",
      "    mode, rawmode = _fromarray_typemap[typekey]\n",
      "                    ~~~~~~~~~~~~~~~~~~^^^^^^^^^\n",
      "KeyError: ((1, 1, 3), '<f4')\n",
      "\n",
      "The above exception was the direct cause of the following exception:\n",
      "\n",
      "Traceback (most recent call last):\n",
      "  File \"c:\\Users\\ryan\\anaconda3\\Lib\\site-packages\\gradio\\queueing.py\", line 625, in process_events\n",
      "    response = await route_utils.call_process_api(\n",
      "               ^^^^^^^^^^^^^^^^^^^^^^^^^^^^^^^^^^^\n",
      "  File \"c:\\Users\\ryan\\anaconda3\\Lib\\site-packages\\gradio\\route_utils.py\", line 322, in call_process_api\n",
      "    output = await app.get_blocks().process_api(\n",
      "             ^^^^^^^^^^^^^^^^^^^^^^^^^^^^^^^^^^^\n",
      "  File \"c:\\Users\\ryan\\anaconda3\\Lib\\site-packages\\gradio\\blocks.py\", line 2096, in process_api\n",
      "    result = await self.call_function(\n",
      "             ^^^^^^^^^^^^^^^^^^^^^^^^^\n",
      "  File \"c:\\Users\\ryan\\anaconda3\\Lib\\site-packages\\gradio\\blocks.py\", line 1643, in call_function\n",
      "    prediction = await anyio.to_thread.run_sync(  # type: ignore\n",
      "                 ^^^^^^^^^^^^^^^^^^^^^^^^^^^^^^^^^^^^^^^^^^^^^^^\n",
      "  File \"c:\\Users\\ryan\\anaconda3\\Lib\\site-packages\\anyio\\to_thread.py\", line 56, in run_sync\n",
      "    return await get_async_backend().run_sync_in_worker_thread(\n",
      "           ^^^^^^^^^^^^^^^^^^^^^^^^^^^^^^^^^^^^^^^^^^^^^^^^^^^^\n",
      "  File \"c:\\Users\\ryan\\anaconda3\\Lib\\site-packages\\anyio\\_backends\\_asyncio.py\", line 2134, in run_sync_in_worker_thread\n",
      "    return await future\n",
      "           ^^^^^^^^^^^^\n",
      "  File \"c:\\Users\\ryan\\anaconda3\\Lib\\site-packages\\anyio\\_backends\\_asyncio.py\", line 851, in run\n",
      "    result = context.run(func, *args)\n",
      "             ^^^^^^^^^^^^^^^^^^^^^^^^\n",
      "  File \"c:\\Users\\ryan\\anaconda3\\Lib\\site-packages\\gradio\\utils.py\", line 890, in wrapper\n",
      "    response = f(*args, **kwargs)\n",
      "               ^^^^^^^^^^^^^^^^^^\n",
      "  File \"C:\\Users\\ryan\\AppData\\Local\\Temp\\ipykernel_53980\\3209906780.py\", line 24, in process_image\n",
      "    Image.fromarray(color_avg_blur),\n",
      "    ^^^^^^^^^^^^^^^^^^^^^^^^^^^^^^^\n",
      "  File \"c:\\Users\\ryan\\anaconda3\\Lib\\site-packages\\PIL\\Image.py\", line 3281, in fromarray\n",
      "    raise TypeError(msg) from e\n",
      "TypeError: Cannot handle this data type: (1, 1, 3), <f4\n"
     ]
    }
   ],
   "source": [
    "demo.launch()"
   ]
  },
  {
   "cell_type": "markdown",
   "metadata": {},
   "source": [
    "## 完整程式"
   ]
  },
  {
   "cell_type": "code",
   "execution_count": null,
   "metadata": {},
   "outputs": [
    {
     "name": "stdout",
     "output_type": "stream",
     "text": [
      "* Running on local URL:  http://127.0.0.1:7864\n",
      "\n",
      "To create a public link, set `share=True` in `launch()`.\n"
     ]
    },
    {
     "data": {
      "text/html": [
       "<div><iframe src=\"http://127.0.0.1:7864/\" width=\"100%\" height=\"500\" allow=\"autoplay; camera; microphone; clipboard-read; clipboard-write;\" frameborder=\"0\" allowfullscreen></iframe></div>"
      ],
      "text/plain": [
       "<IPython.core.display.HTML object>"
      ]
     },
     "metadata": {},
     "output_type": "display_data"
    },
    {
     "data": {
      "text/plain": []
     },
     "execution_count": 17,
     "metadata": {},
     "output_type": "execute_result"
    }
   ],
   "source": [
    "import cv2\n",
    "import numpy as np\n",
    "import gradio as gr\n",
    "from PIL import Image\n",
    "\n",
    "def process_image(image, kernel_size, k_value):\n",
    "    # 讀取圖片並轉為灰階\n",
    "    img = np.array(image.convert(\"L\"), dtype=np.float32)\n",
    "    \n",
    "    # 1. 平均濾波\n",
    "    avg_blur = cv2.blur(img, (kernel_size, kernel_size))\n",
    "    color_avg_blur = cv2.cvtColor(avg_blur.astype(np.uint8), cv2.COLOR_GRAY2RGB)\n",
    "    \n",
    "    # 2. 中值濾波\n",
    "    median_blur = cv2.medianBlur(img.astype(np.uint8), kernel_size)\n",
    "    color_median_blur = cv2.cvtColor(median_blur.astype(np.uint8), cv2.COLOR_GRAY2RGB)\n",
    "    \n",
    "    # 3. Unsharp Masking with Average Filter\n",
    "    avg_mask = img - avg_blur\n",
    "    avg_sharpened = cv2.addWeighted(img, 1.0, avg_mask, k_value, 0)\n",
    "    color_avg_sharpened = cv2.cvtColor(np.clip(avg_sharpened, 0, 255).astype(np.uint8), cv2.COLOR_GRAY2RGB)\n",
    "    \n",
    "    # 4. Unsharp Masking with Median Filter\n",
    "    median_mask = img - median_blur\n",
    "    median_sharpened = cv2.addWeighted(img, 1.0, median_mask, k_value, 0)\n",
    "    color_median_sharpened = cv2.cvtColor(np.clip(median_sharpened, 0, 255).astype(np.uint8), cv2.COLOR_GRAY2RGB)\n",
    "\n",
    "    return (\n",
    "        Image.fromarray(color_avg_blur),\n",
    "        Image.fromarray(color_median_blur),\n",
    "        Image.fromarray(color_avg_sharpened),\n",
    "        Image.fromarray(color_median_sharpened)\n",
    "    )\n",
    "\n",
    "\n",
    "# Gradio 介面設定\n",
    "image_input = gr.Image(type=\"pil\", label=\"上傳圖片\")\n",
    "kernel_slider = gr.Slider(3, 21, step=2, value=3, label=\"Kernel Size (必須是奇數)\")\n",
    "k_slider = gr.Slider(0.0, 10.0, step=0.1, value=1.0, label=\"Unsharp k 值\")\n",
    "\n",
    "demo = gr.Interface(\n",
    "    fn=process_image,\n",
    "    inputs=[image_input, kernel_slider, k_slider],\n",
    "    outputs=[\n",
    "        gr.Image(type=\"pil\", label=\"平均濾波 (Average Filter)\"),\n",
    "        gr.Image(type=\"pil\", label=\"中值濾波 (Median Filter)\"),\n",
    "        gr.Image(type=\"pil\", label=\"Unsharp Masking (Average Filter)\"),\n",
    "        gr.Image(type=\"pil\", label=\"Unsharp Masking (Median Filter)\"),\n",
    "    ],\n",
    "    title=\"影像處理作業：不同濾波與 Unsharp Masking\",\n",
    "    description=\"顯示平均濾波、中值濾波及其 Unsharp Masking 結果\"\n",
    ")\n",
    "\n",
    "demo.launch()"
   ]
  }
 ],
 "metadata": {
  "kernelspec": {
   "display_name": "base",
   "language": "python",
   "name": "python3"
  },
  "language_info": {
   "codemirror_mode": {
    "name": "ipython",
    "version": 3
   },
   "file_extension": ".py",
   "mimetype": "text/x-python",
   "name": "python",
   "nbconvert_exporter": "python",
   "pygments_lexer": "ipython3",
   "version": "3.12.7"
  }
 },
 "nbformat": 4,
 "nbformat_minor": 2
}
