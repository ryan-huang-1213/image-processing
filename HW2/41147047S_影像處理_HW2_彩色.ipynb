{
 "cells": [
  {
   "cell_type": "markdown",
   "metadata": {},
   "source": [
    "# 影像處理 HW2 ( histogram equalization )\n",
    "## 基本資料\n",
    "系級 : 資工 115 \n",
    "學號 : 41147047S\n",
    "作者 : 黃國展"
   ]
  },
  {
   "cell_type": "markdown",
   "metadata": {},
   "source": [
    "### 環境建置以及套件引用"
   ]
  },
  {
   "cell_type": "code",
   "execution_count": 2,
   "metadata": {},
   "outputs": [],
   "source": [
    "## 安裝套件\n",
    "# %pip install gradio opencv-python numpy"
   ]
  },
  {
   "cell_type": "code",
   "execution_count": 3,
   "metadata": {},
   "outputs": [],
   "source": [
    "import cv2\n",
    "import numpy as np\n",
    "import matplotlib.pyplot as plt\n",
    "import gradio as gr\n",
    "import os"
   ]
  },
  {
   "cell_type": "code",
   "execution_count": 4,
   "metadata": {},
   "outputs": [],
   "source": [
    "def compute_gray_histogram(image):\n",
    "    \"\"\"\n",
    "    計算灰階圖片的直方圖。\n",
    "    \"\"\"\n",
    "    gray = cv2.cvtColor(image, cv2.COLOR_BGR2GRAY) # 從彩色圖像 ( RGB ) 轉換為灰階圖像\n",
    "    hist_gray = cv2.calcHist([gray], [0], None, [256], [0, 256]).flatten() # 計算灰階直方圖\n",
    "    return gray, hist_gray\n",
    "\n",
    "def histogram_equalization(image):\n",
    "    \"\"\"\n",
    "    進行直方圖均衡化，透過灰階影像作為參考來調整彩色影像。\n",
    "    \"\"\"\n",
    "    # 轉換為灰階\n",
    "    gray, hist_gray = compute_gray_histogram(image)\n",
    "    \n",
    "    # 對灰階圖像應用直方圖均衡化\n",
    "    gray_eq = cv2.equalizeHist(gray)\n",
    "    hist_gray_eq = cv2.calcHist([gray_eq], [0], None, [256], [0, 256]).flatten()\n",
    "    \n",
    "    # 避免 G 為零的情況，避免除零錯誤\n",
    "    gray = np.where(gray == 0, 1, gray)\n",
    "    \n",
    "    # 調整彩色影像的 RGB 通道\n",
    "    b, g, r = cv2.split(image)\n",
    "    b = np.clip((b.astype(np.float32) * gray_eq / gray), 0, 255).astype(np.uint8)\n",
    "    g = np.clip((g.astype(np.float32) * gray_eq / gray), 0, 255).astype(np.uint8)\n",
    "    r = np.clip((r.astype(np.float32) * gray_eq / gray), 0, 255).astype(np.uint8)\n",
    "    \n",
    "    # 合併回彩色圖像\n",
    "    equalized_image = cv2.merge([b, g, r])\n",
    "    \n",
    "    return image, equalized_image, hist_gray, hist_gray_eq\n",
    "\n",
    "def plot_histogram(hist, title, filename):\n",
    "    \"\"\"\n",
    "    繪製灰階直方圖。\n",
    "    \"\"\"\n",
    "    plt.figure()\n",
    "    plt.title(title)\n",
    "    plt.xlabel(\"Gray Level\")\n",
    "    plt.ylabel(\"Pixel Count\")\n",
    "    plt.bar(range(256), hist, width=1.0, color='black')\n",
    "    plt.xlim([0, 255])\n",
    "    \n",
    "    # 轉換成圖像格式\n",
    "    plt.tight_layout()\n",
    "    save_path = os.path.join(os.getcwd(), filename)\n",
    "    plt.savefig(save_path)\n",
    "    plt.close()\n",
    "    return save_path\n",
    "\n"
   ]
  },
  {
   "cell_type": "markdown",
   "metadata": {},
   "source": [
    "### 建立 gradio ( GUI 介面以方便操作 )"
   ]
  },
  {
   "cell_type": "code",
   "execution_count": 5,
   "metadata": {},
   "outputs": [
    {
     "name": "stdout",
     "output_type": "stream",
     "text": [
      "* Running on local URL:  http://127.0.0.1:7860\n",
      "\n",
      "To create a public link, set `share=True` in `launch()`.\n"
     ]
    },
    {
     "data": {
      "text/html": [
       "<div><iframe src=\"http://127.0.0.1:7860/\" width=\"100%\" height=\"500\" allow=\"autoplay; camera; microphone; clipboard-read; clipboard-write;\" frameborder=\"0\" allowfullscreen></iframe></div>"
      ],
      "text/plain": [
       "<IPython.core.display.HTML object>"
      ]
     },
     "metadata": {},
     "output_type": "display_data"
    },
    {
     "data": {
      "text/plain": []
     },
     "execution_count": 5,
     "metadata": {},
     "output_type": "execute_result"
    }
   ],
   "source": [
    "def gradio_interface(image):\n",
    "    \"\"\"\n",
    "    Gradio 介面函數，處理使用者上傳的圖片並顯示直方圖及均衡化結果。\n",
    "    \"\"\"\n",
    "    original_image, equalized_image, hist_gray, hist_gray_eq = histogram_equalization(image)\n",
    "    \n",
    "    # 繪製原始灰階直方圖\n",
    "    original_hist_path = plot_histogram(hist_gray, \"Original Gray Histogram\", \"original_gray_hist.png\")\n",
    "    \n",
    "    # 繪製均衡化後的灰階直方圖\n",
    "    equalized_hist_path = plot_histogram(hist_gray_eq, \"Equalized Gray Histogram\", \"equalized_gray_hist.png\")\n",
    "    \n",
    "    return original_image, original_hist_path, equalized_image, equalized_hist_path\n",
    "\n",
    "\n",
    "\n",
    "# 創建 Gradio 介面\n",
    "iface = gr.Interface(\n",
    "    fn=gradio_interface,\n",
    "    inputs=gr.Image(type=\"numpy\"),\n",
    "    outputs=[gr.Image(type=\"numpy\", label=\"原始彩色圖像\"),\n",
    "             gr.Image(label=\"原始直方圖\"),\n",
    "             gr.Image(type=\"numpy\", label=\"均衡化後圖像\"),\n",
    "             gr.Image(label=\"均衡化後直方圖\")],\n",
    "    title=\"直方圖均衡化展示 (彩色圖像)\",\n",
    "    description=\"上傳圖片以查看其 RGB 直方圖，並進行直方圖均衡化處理。\"\n",
    ")\n",
    "\n",
    "# 啟動 Gradio 應用\n",
    "iface.launch()"
   ]
  }
 ],
 "metadata": {
  "kernelspec": {
   "display_name": "base",
   "language": "python",
   "name": "python3"
  },
  "language_info": {
   "codemirror_mode": {
    "name": "ipython",
    "version": 3
   },
   "file_extension": ".py",
   "mimetype": "text/x-python",
   "name": "python",
   "nbconvert_exporter": "python",
   "pygments_lexer": "ipython3",
   "version": "3.12.7"
  }
 },
 "nbformat": 4,
 "nbformat_minor": 2
}
