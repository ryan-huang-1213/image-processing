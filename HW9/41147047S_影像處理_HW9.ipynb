{
 "cells": [
  {
   "cell_type": "markdown",
   "id": "db4b8bcb",
   "metadata": {},
   "source": [
    "# Color Contrast Enhancement Demo\n",
    "此 Notebook 示範如何手動將 RGB 影像轉換為 HSV，對 V 分量進行直方圖等化，再轉回 RGB，並透過 Gradio 建立互動式介面。"
   ]
  },
  {
   "cell_type": "markdown",
   "id": "0e2d5e0f",
   "metadata": {},
   "source": [
    "## 匯入所需的函式庫與定義核心函式\n",
    "以下程式碼匯入必要的函式庫，並定義 RGB/HSV 轉換、V 分量等化與 Gradio 呼叫函式。"
   ]
  },
  {
   "cell_type": "code",
   "execution_count": null,
   "id": "f44b79eb",
   "metadata": {},
   "outputs": [],
   "source": [
    "import numpy as np\n",
    "import cv2\n",
    "import matplotlib.pyplot as plt\n",
    "import gradio as gr\n",
    "\n",
    "def rgb_to_hsv_manual(img: np.ndarray):\n",
    "    \"\"\"\n",
    "    手動將 RGB（0–255）轉到 HSV（h∈[0,1), s∈[0,1], v∈[0,1]）\n",
    "    \"\"\"\n",
    "    # 1. 標準化到 [0,1]\n",
    "    img_f = img.astype(np.float32) / 255.0\n",
    "    r, g, b = img_f[...,0], img_f[...,1], img_f[...,2]\n",
    "    c_max = np.maximum.reduce([r, g, b])\n",
    "    c_min = np.minimum.reduce([r, g, b])\n",
    "    delta = c_max - c_min\n",
    "\n",
    "    # Hue 計算\n",
    "    h = np.zeros_like(c_max)\n",
    "    mask = delta > 1e-6\n",
    "    # R 為 max\n",
    "    idx = (c_max == r) & mask\n",
    "    h[idx] = ((g[idx] - b[idx]) / delta[idx]) % 6\n",
    "    # G 為 max\n",
    "    idx = (c_max == g) & mask\n",
    "    h[idx] = ((b[idx] - r[idx]) / delta[idx]) + 2\n",
    "    # B 為 max\n",
    "    idx = (c_max == b) & mask\n",
    "    h[idx] = ((r[idx] - g[idx]) / delta[idx]) + 4\n",
    "    h = h / 6  # 歸一化到 [0,1)\n",
    "\n",
    "    # Saturation\n",
    "    s = np.zeros_like(c_max)\n",
    "    nonzero = c_max > 1e-6\n",
    "    s[nonzero] = delta[nonzero] / c_max[nonzero]\n",
    "\n",
    "    # Value\n",
    "    v = c_max\n",
    "\n",
    "    return np.stack([h, s, v], axis=-1)\n",
    "\n",
    "def hsv_to_rgb_manual(hsv: np.ndarray):\n",
    "    \"\"\"\n",
    "    手動將 HSV（h∈[0,1), s,v∈[0,1]）轉回 RGB（0–255）\n",
    "    \"\"\"\n",
    "    h, s, v = hsv[...,0], hsv[...,1], hsv[...,2]\n",
    "    h6 = h * 6\n",
    "    i = np.floor(h6).astype(int) % 6\n",
    "    f = h6 - i\n",
    "    p = v * (1 - s)\n",
    "    q = v * (1 - f * s)\n",
    "    t = v * (1 - (1 - f) * s)\n",
    "\n",
    "    rgb = np.zeros_like(hsv)\n",
    "    for idx in range(6):\n",
    "        mask = i == idx\n",
    "        if idx == 0:\n",
    "            rgb[mask] = np.stack([v[mask], t[mask], p[mask]], axis=-1)\n",
    "        elif idx == 1:\n",
    "            rgb[mask] = np.stack([q[mask], v[mask], p[mask]], axis=-1)\n",
    "        elif idx == 2:\n",
    "            rgb[mask] = np.stack([p[mask], v[mask], t[mask]], axis=-1)\n",
    "        elif idx == 3:\n",
    "            rgb[mask] = np.stack([p[mask], q[mask], v[mask]], axis=-1)\n",
    "        elif idx == 4:\n",
    "            rgb[mask] = np.stack([t[mask], p[mask], v[mask]], axis=-1)\n",
    "        elif idx == 5:\n",
    "            rgb[mask] = np.stack([v[mask], p[mask], q[mask]], axis=-1)\n",
    "\n",
    "    # 轉回 [0,255]\n",
    "    return (rgb * 255.0).clip(0,255).astype(np.uint8)\n",
    "\n",
    "def enhance_contrast(img: np.ndarray):\n",
    "    \"\"\"整合流程：RGB→HSV→V 等化→RGB\"\"\"\n",
    "    # 轉 HSV\n",
    "    hsv = rgb_to_hsv_manual(img)\n",
    "    # 對 v 通道做等化（先映射到 0–255，用 OpenCV）\n",
    "    v_255 = (hsv[...,2]*255).astype(np.uint8)\n",
    "    v_eq = cv2.equalizeHist(v_255)\n",
    "    hsv[...,2] = v_eq.astype(np.float32)/255.0\n",
    "    # 轉回 RGB\n",
    "    enhanced = hsv_to_rgb_manual(hsv)\n",
    "    return enhanced\n",
    "\n",
    "def process(img: np.ndarray):\n",
    "    \"\"\"Gradio 呼叫函式\"\"\"\n",
    "    enhanced = enhance_contrast(img)\n",
    "    return img, enhanced"
   ]
  },
  {
   "cell_type": "markdown",
   "id": "821e3038",
   "metadata": {},
   "source": [
    "## 建立 Gradio 介面\n",
    "以下程式碼建立 Gradio 介面，允許使用者上傳影像並即時顯示原始圖與增強後結果。"
   ]
  },
  {
   "cell_type": "code",
   "execution_count": null,
   "id": "2b8c4aa0",
   "metadata": {},
   "outputs": [],
   "source": [
    "iface = gr.Interface(\n",
    "    fn=process,\n",
    "    inputs=gr.Image(type=\"numpy\", label=\"原始 RGB 影像\"),\n",
    "    outputs=[\n",
    "        gr.Image(type=\"numpy\", label=\"原始影像\"),\n",
    "        gr.Image(type=\"numpy\", label=\"增強後影像\")\n",
    "    ],\n",
    "    title=\"Homework 9：Color Contrast Enhancement\",\n",
    "    description=\"依照手動公式，將 RGB→HSV→對 V 分量做直方圖等化→再轉回 RGB。\"\n",
    ")"
   ]
  },
  {
   "cell_type": "markdown",
   "id": "1ab887ff",
   "metadata": {},
   "source": [
    "## 啟動介面\n",
    "執行以下程式碼以啟動 Gradio 介面。"
   ]
  },
  {
   "cell_type": "code",
   "execution_count": null,
   "id": "b0b2acc1",
   "metadata": {},
   "outputs": [],
   "source": [
    "if __name__ == \"__main__\":\n",
    "    iface.launch()"
   ]
  }
 ],
 "metadata": {
  "kernelspec": {
   "display_name": "base",
   "language": "python",
   "name": "python3"
  },
  "language_info": {
   "codemirror_mode": {
    "name": "ipython",
    "version": 3
   },
   "file_extension": ".py",
   "mimetype": "text/x-python",
   "name": "python",
   "nbconvert_exporter": "python",
   "pygments_lexer": "ipython3",
   "version": "3.12.7"
  }
 },
 "nbformat": 4,
 "nbformat_minor": 5
}
