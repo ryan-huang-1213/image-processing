{
 "cells": [
  {
   "cell_type": "markdown",
   "id": "5a9dbbe2",
   "metadata": {},
   "source": [
    "# Otsu's Thresholding Demo\n",
    "此 Notebook 示範如何使用 Otsu 閾值分割法進行影像二值化，並透過 Gradio 建立互動式介面。"
   ]
  },
  {
   "cell_type": "markdown",
   "id": "a2db6c31",
   "metadata": {},
   "source": [
    "## 匯入所需的函式庫與定義核心函式\n",
    "以下程式碼匯入必要的函式庫，並定義計算 Otsu 閾值與 Gradio 呼叫函式。"
   ]
  },
  {
   "cell_type": "code",
   "execution_count": null,
   "id": "a210f541",
   "metadata": {},
   "outputs": [
    {
     "name": "stdout",
     "output_type": "stream",
     "text": [
      "* Running on local URL:  http://127.0.0.1:7860\n",
      "\n",
      "To create a public link, set `share=True` in `launch()`.\n"
     ]
    },
    {
     "data": {
      "text/html": [
       "<div><iframe src=\"http://127.0.0.1:7860/\" width=\"100%\" height=\"500\" allow=\"autoplay; camera; microphone; clipboard-read; clipboard-write;\" frameborder=\"0\" allowfullscreen></iframe></div>"
      ],
      "text/plain": [
       "<IPython.core.display.HTML object>"
      ]
     },
     "metadata": {},
     "output_type": "display_data"
    },
    {
     "data": {
      "text/plain": []
     },
     "execution_count": 5,
     "metadata": {},
     "output_type": "execute_result"
    }
   ],
   "source": [
    "import cv2\n",
    "import numpy as np\n",
    "import matplotlib.pyplot as plt\n",
    "import gradio as gr\n",
    "\n",
    "def compute_otsu_threshold(image: np.ndarray) -> int:\n",
    "    \"\"\"手動計算 Otsu 閾值\"\"\"\n",
    "    hist, _ = np.histogram(image.ravel(), bins=256, range=(0, 256))\n",
    "    total = image.size\n",
    "    cumulative_sum   = np.cumsum(hist)\n",
    "    cumulative_mean  = np.cumsum(hist * np.arange(256))\n",
    "    global_mean      = cumulative_mean[-1] / total\n",
    "    sigma_b_squared  = (global_mean * cumulative_sum - cumulative_mean) ** 2 \\\n",
    "                       / (cumulative_sum * (total - cumulative_sum) + 1e-8)\n",
    "    return int(np.argmax(sigma_b_squared))\n",
    "\n",
    "def otsu_gradio(image: np.ndarray):\n",
    "    \"\"\"\n",
    "    Gradio 呼叫函式：  \n",
    "    1. 將輸入轉灰階  \n",
    "    2. 計算 Otsu 閾值並二值化  \n",
    "    3. 繪製直方圖  \n",
    "    回傳：(灰階圖, 直方圖 Figure, 二值圖)\n",
    "    \"\"\"\n",
    "    # 1. 轉為灰階\n",
    "    if image.ndim == 3:\n",
    "        gray = cv2.cvtColor(image, cv2.COLOR_BGR2GRAY)\n",
    "    else:\n",
    "        gray = image.copy()\n",
    "    # 2. Otsu 閾值分割\n",
    "    th = compute_otsu_threshold(gray)\n",
    "    _, binary = cv2.threshold(gray, th, 255, cv2.THRESH_BINARY)\n",
    "    # 3. 繪製直方圖\n",
    "    fig = plt.figure(figsize=(4,3))\n",
    "    plt.hist(gray.ravel(), bins=256, range=(0,255), color='gray')\n",
    "    plt.axvline(th, color='red', linestyle='--', label=f\"Otsu = {th}\")\n",
    "    plt.legend()\n",
    "    plt.title(\"Histogram\")\n",
    "    plt.xlabel(\"Gray Level\")\n",
    "    plt.ylabel(\"Frequency\")\n",
    "    plt.tight_layout()\n",
    "    # Gradio 接受 numpy array & matplotlib Figure\n",
    "    return gray, fig, binary"
   ]
  },
  {
   "cell_type": "markdown",
   "id": "66754e7a",
   "metadata": {},
   "source": [
    "## 建立 Gradio 介面\n",
    "以下程式碼建立 Gradio 介面，允許使用者上傳影像並即時顯示灰階圖、直方圖與二值化結果。"
   ]
  },
  {
   "cell_type": "code",
   "execution_count": null,
   "id": "0c94412c",
   "metadata": {},
   "outputs": [],
   "source": [
    "iface = gr.Interface(\n",
    "    fn=otsu_gradio,\n",
    "    inputs=gr.Image(type=\"numpy\", label=\"Upload Image\"),\n",
    "    outputs=[\n",
    "        gr.Image(type=\"numpy\", label=\"Grayscale Image\"),\n",
    "        gr.Plot(label=\"Histogram\"),\n",
    "        gr.Image(type=\"numpy\", label=\"Binary Image\")\n",
    "    ],\n",
    "    title=\"Otsu's Thresholding Demo\",\n",
    "    description=\"上傳一張影像，自動計算並顯示灰階圖、直方圖與二值化結果。\"\n",
    ")"
   ]
  },
  {
   "cell_type": "markdown",
   "id": "8caa46a6",
   "metadata": {},
   "source": [
    "## 啟動介面\n",
    "執行以下程式碼以啟動 Gradio 介面。"
   ]
  },
  {
   "cell_type": "code",
   "execution_count": null,
   "id": "93a34f01",
   "metadata": {},
   "outputs": [],
   "source": [
    "iface.launch(share=False)"
   ]
  }
 ],
 "metadata": {
  "kernelspec": {
   "display_name": "base",
   "language": "python",
   "name": "python3"
  },
  "language_info": {
   "codemirror_mode": {
    "name": "ipython",
    "version": 3
   },
   "file_extension": ".py",
   "mimetype": "text/x-python",
   "name": "python",
   "nbconvert_exporter": "python",
   "pygments_lexer": "ipython3",
   "version": "3.12.7"
  }
 },
 "nbformat": 4,
 "nbformat_minor": 5
}
